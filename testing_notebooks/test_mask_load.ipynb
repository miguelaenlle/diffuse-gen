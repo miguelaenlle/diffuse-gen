{
 "cells": [
  {
   "cell_type": "code",
   "execution_count": 1,
   "id": "a8228dde",
   "metadata": {},
   "outputs": [],
   "source": [
    "mask_path = '/home/miguel/GI/1.5 - Synthetic Data Generation/diffuse-gen/diffuse-gen/guided_diffusion/segmented-images-roberta/FD-032/masks/FD-029-slice-36-image.png'"
   ]
  },
  {
   "cell_type": "code",
   "execution_count": 10,
   "id": "81313b5f",
   "metadata": {},
   "outputs": [],
   "source": [
    "import blobfile as bf\n",
    "import numpy as np\n",
    "from PIL import Image"
   ]
  },
  {
   "cell_type": "code",
   "execution_count": 5,
   "id": "fadf63de",
   "metadata": {},
   "outputs": [],
   "source": [
    "with bf.BlobFile(mask_path, \"rb\") as f:\n",
    "    pil_mask = Image.open(f)\n",
    "    pil_mask.load()"
   ]
  },
  {
   "cell_type": "code",
   "execution_count": 7,
   "metadata": {},
   "outputs": [],
   "source": [
    "pil_mask = pil_mask.convert(\"L\")"
   ]
  },
  {
   "cell_type": "code",
   "execution_count": 8,
   "id": "7bfad1ae",
   "metadata": {},
   "outputs": [
    {
     "data": {
      "image/jpeg": "[encoded data removed]",
      "image/png": "[encoded data removed]",
      "text/plain": [
       "<PIL.Image.Image image mode=L size=256x256>"
      ]
     },
     "execution_count": 8,
     "metadata": {},
     "output_type": "execute_result"
    }
   ],
   "source": [
    "pil_mask"
   ]
  },
  {
   "cell_type": "code",
   "execution_count": null,
   "id": "b1ab6326",
   "metadata": {},
   "outputs": [],
   "source": [
    "def center_crop_arr(pil_image, image_size):\n",
    "    # We are not on a new enough PIL to support the `reducing_gap`\n",
    "    # argument, which uses BOX downsampling at powers of two first.\n",
    "    # Thus, we do it by hand to improve downsample quality.\n",
    "    while min(*pil_image.size) >= 2 * image_size:\n",
    "        pil_image = pil_image.resize(\n",
    "            tuple(x // 2 for x in pil_image.size), resample=Image.BOX\n",
    "        )\n",
    "\n",
    "    scale = image_size / min(*pil_image.size)\n",
    "    pil_image = pil_image.resize(\n",
    "        tuple(round(x * scale) for x in pil_image.size), resample=Image.BICUBIC\n",
    "    )\n",
    "\n",
    "    arr = np.array(pil_image)\n",
    "    crop_y = (arr.shape[0] - image_size) // 2\n",
    "    crop_x = (arr.shape[1] - image_size) // 2\n",
    "    return arr[crop_y : crop_y + image_size, crop_x : crop_x + image_size]"
   ]
  },
  {
   "cell_type": "code",
   "execution_count": 20,
   "id": "494c330a",
   "metadata": {},
   "outputs": [],
   "source": [
    "mask_arr = center_crop_arr(pil_mask, 256)"
   ]
  },
  {
   "cell_type": "code",
   "execution_count": 25,
   "id": "e76de580",
   "metadata": {},
   "outputs": [
    {
     "data": {
      "text/plain": [
       "np.uint8(255)"
      ]
     },
     "execution_count": 25,
     "metadata": {},
     "output_type": "execute_result"
    }
   ],
   "source": [
    "mask_arr.max()"
   ]
  },
  {
   "cell_type": "code",
   "execution_count": null,
   "id": "98d637f2",
   "metadata": {},
   "outputs": [],
   "source": []
  },
  {
   "cell_type": "code",
   "execution_count": 26,
   "id": "ef9efb44",
   "metadata": {},
   "outputs": [],
   "source": [
    "mask_arr = np.where(mask_arr > 100, 1, -1)"
   ]
  },
  {
   "cell_type": "code",
   "execution_count": 27,
   "id": "70de1423",
   "metadata": {},
   "outputs": [],
   "source": [
    "import matplotlib.pyplot as plt"
   ]
  },
  {
   "cell_type": "code",
   "execution_count": 28,
   "id": "dd3f262e",
   "metadata": {},
   "outputs": [
    {
     "data": {
      "text/plain": [
       "<matplotlib.image.AxesImage at 0x785e2bf20380>"
      ]
     },
     "execution_count": 28,
     "metadata": {},
     "output_type": "execute_result"
    },
    {
     "data": {
      "image/png": "[encoded data removed]",
      "text/plain": [
       "<Figure size 640x480 with 1 Axes>"
      ]
     },
     "metadata": {},
     "output_type": "display_data"
    }
   ],
   "source": [
    "plt.imshow((mask_arr + 1))"
   ]
  },
  {
   "cell_type": "markdown",
   "id": "72cf243a",
   "metadata": {},
   "source": []
  }
 ],
 "metadata": {
  "kernelspec": {
   "display_name": "gsoc-2025-1",
   "language": "python",
   "name": "python3"
  },
  "language_info": {
   "codemirror_mode": {
    "name": "ipython",
    "version": 3
   },
   "file_extension": ".py",
   "mimetype": "text/x-python",
   "name": "python",
   "nbconvert_exporter": "python",
   "pygments_lexer": "ipython3",
   "version": "3.12.2"
  }
 },
 "nbformat": 4,
 "nbformat_minor": 5
}
