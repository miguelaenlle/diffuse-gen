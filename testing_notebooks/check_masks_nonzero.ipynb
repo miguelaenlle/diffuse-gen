{
 "cells": [
  {
   "cell_type": "code",
   "execution_count": 10,
   "id": "0a18e440",
   "metadata": {},
   "outputs": [],
   "source": [
    "import os\n",
    "import cv2\n",
    "import pickle\n",
    "import shutil\n",
    "import numpy as np\n",
    "import matplotlib.pyplot as plt\n",
    "\n",
    "from PIL import Image\n",
    "from tqdm import tqdm"
   ]
  },
  {
   "cell_type": "code",
   "execution_count": 11,
   "id": "8452a6ad",
   "metadata": {},
   "outputs": [],
   "source": [
    "sample_index = 1\n",
    "\n",
    "paths = [{\n",
    "    \"styled_img_path\": f\"/home/miguel/GI/1.5 - Synthetic Data Generation/diffuse-gen/diffuse-gen/image_samples_FD-027/diffgen-2025-06-29-03-16/styled_samples_288x256x256x4.pkl\",\n",
    "    \"masked_images_folder_path\": '/home/miguel/GI/0 - Data Exploration & Analysis/GI-Roberta/gi-roberta-dataset/full_dataset'\n",
    "}, {\n",
    "    \"styled_img_path\": f'/home/miguel/GI/1.5 - Synthetic Data Generation/diffuse-gen/diffuse-gen/image_samples_FD-032/diffgen-2025-07-08-08-03/styled_samples_3x256x256x4.pkl',\n",
    "    \"masked_images_folder_path\": '/home/miguel/GI/0 - Data Exploration & Analysis/GI-Roberta/gi-roberta-dataset/full_dataset'\n",
    "}]\n",
    "\n",
    "styled_img_path, masked_images_folder_path = paths[sample_index][\"styled_img_path\"], paths[sample_index][\"masked_images_folder_path\"]\n",
    "\n",
    "shape = (256, 256)"
   ]
  },
  {
   "cell_type": "code",
   "execution_count": 12,
   "id": "b50e0ce9",
   "metadata": {},
   "outputs": [],
   "source": [
    "with open(styled_img_path, \"rb\") as f:\n",
    "    styled_images = pickle.load(f)"
   ]
  },
  {
   "cell_type": "code",
   "execution_count": null,
   "id": "3f241195",
   "metadata": {},
   "outputs": [],
   "source": []
  },
  {
   "cell_type": "code",
   "execution_count": null,
   "id": "ad862664",
   "metadata": {},
   "outputs": [],
   "source": []
  },
  {
   "cell_type": "code",
   "execution_count": null,
   "id": "aaae0d84",
   "metadata": {},
   "outputs": [],
   "source": []
  },
  {
   "cell_type": "code",
   "execution_count": 14,
   "id": "7210f10e",
   "metadata": {},
   "outputs": [],
   "source": [
    "export_path_nonzero_masks = 'nonzero_masks'\n",
    "export_path_zero_masks = 'zero_masks'"
   ]
  },
  {
   "cell_type": "code",
   "execution_count": null,
   "id": "f81d0504",
   "metadata": {},
   "outputs": [],
   "source": []
  },
  {
   "cell_type": "code",
   "execution_count": 22,
   "id": "f105ec31",
   "metadata": {},
   "outputs": [],
   "source": [
    "filename_images = {}\n",
    "masked_images = os.listdir(masked_images_folder_path)\n",
    "\n",
    "for filename in masked_images:\n",
    "    if not filename.endswith('.png') and not filename.endswith('.jpg'):\n",
    "        continue\n",
    "        \n",
    "    img_path = os.path.join(masked_images_folder_path, filename)\n",
    "    image = Image.open(img_path)\n",
    "    filename_images[filename] = image"
   ]
  },
  {
   "cell_type": "code",
   "execution_count": null,
   "id": "7dc0c3ee",
   "metadata": {},
   "outputs": [],
   "source": []
  },
  {
   "cell_type": "code",
   "execution_count": 23,
   "id": "6a63a9db",
   "metadata": {},
   "outputs": [],
   "source": [
    "# Clear the export path directories if they exists\n",
    "if os.path.exists(export_path_nonzero_masks):\n",
    "    shutil.rmtree(export_path_nonzero_masks)\n",
    "\n",
    "os.makedirs(export_path_nonzero_masks, exist_ok=True)\n",
    "\n",
    "if os.path.exists(export_path_zero_masks):\n",
    "    shutil.rmtree(export_path_zero_masks)\n",
    "    \n",
    "\n",
    "os.makedirs(export_path_zero_masks, exist_ok=True)"
   ]
  },
  {
   "cell_type": "code",
   "execution_count": 24,
   "id": "87b1a049",
   "metadata": {},
   "outputs": [
    {
     "name": "stderr",
     "output_type": "stream",
     "text": [
      "100%|██████████| 3/3 [00:00<00:00,  4.39it/s]\n"
     ]
    }
   ],
   "source": [
    "num_nonzero_masks = 0\n",
    "num_masks = 0\n",
    "\n",
    "mask_min = 0\n",
    "mask_max = 0\n",
    "\n",
    "for key, styled_list in tqdm(styled_images.items()):\n",
    "    styled_image = styled_list[0]\n",
    "    \n",
    "    # Split synthetic image and mask\n",
    "    synthetic_img = styled_image[:, :, :3].astype(np.uint8)\n",
    "    mask = styled_image[:, :, 3]\n",
    "\n",
    "    mask_min = min(mask_min, mask.flatten().min())\n",
    "    mask_max = max(mask_max, mask.flatten().max())\n",
    "\n",
    "    mask_normalized = mask / 255.0  # Normalize to [0,1] for transparency\n",
    "     \n",
    "    filename = key.split('/')[-1]  # Extract filename\n",
    "\n",
    "    original_image = filename_images.get(filename, None)\n",
    "    if original_image is None:\n",
    "        print(f\"Warning: No original image found for {filename}. Skipping.\")\n",
    "        continue\n",
    "    \n",
    "    has_mask = mask_normalized.flatten().sum() > 5\n",
    "    if has_mask:\n",
    "        num_nonzero_masks += 1\n",
    "    num_masks += 1\n",
    "\n",
    "    export_path = export_path_nonzero_masks if has_mask else export_path_zero_masks\n",
    "\n",
    "    # Save original synthetic image\n",
    "    orig_filename = os.path.join(export_path, f\"{filename}_synthetic.png\")\n",
    "    cv2.imwrite(orig_filename, cv2.cvtColor(synthetic_img, cv2.COLOR_RGB2BGR))\n",
    "\n",
    "    # Save the raw mask\n",
    "    mask_filename = os.path.join(export_path, f\"{filename}_synthetic_mask.png\")\n",
    "    cv2.imwrite(mask_filename, (mask_normalized * 255).astype(np.uint8))\n",
    "\n",
    "    # Create and save the overlay\n",
    "    fig, axes = plt.subplots(1, 3, figsize=(12, 6))\n",
    "    axes[0].imshow(synthetic_img)\n",
    "    axes[0].set_title(f\"Synthetic: {filename}\")\n",
    "    axes[0].axis('off')\n",
    "\n",
    "    axes[1].imshow(synthetic_img)\n",
    "    axes[1].imshow(mask_normalized, cmap='jet', alpha=0.5)\n",
    "    axes[1].set_title(f\"Synthetic + Mask Overlay: {filename}\")\n",
    "    axes[1].axis('off')\n",
    "    \n",
    "    axes[2].imshow(original_image)\n",
    "    axes[2].set_title(f\"Original: {filename}\")\n",
    "    axes[2].axis('off')\n",
    "\n",
    "    overlay_filename = os.path.join(export_path, f\"{filename}_overlay.png\")\n",
    "    plt.tight_layout()\n",
    "    plt.savefig(overlay_filename, bbox_inches='tight')\n",
    "    plt.close(fig)"
   ]
  },
  {
   "cell_type": "code",
   "execution_count": 60,
   "id": "ef65d064",
   "metadata": {},
   "outputs": [
    {
     "data": {
      "text/plain": [
       "0"
      ]
     },
     "execution_count": 60,
     "metadata": {},
     "output_type": "execute_result"
    }
   ],
   "source": [
    "mask_min"
   ]
  },
  {
   "cell_type": "code",
   "execution_count": 61,
   "id": "fe118fe1",
   "metadata": {},
   "outputs": [
    {
     "data": {
      "text/plain": [
       "np.uint8(255)"
      ]
     },
     "execution_count": 61,
     "metadata": {},
     "output_type": "execute_result"
    }
   ],
   "source": [
    "mask_max"
   ]
  },
  {
   "cell_type": "code",
   "execution_count": null,
   "id": "3e9d0f55",
   "metadata": {},
   "outputs": [],
   "source": []
  },
  {
   "cell_type": "code",
   "execution_count": null,
   "id": "ec267e6b",
   "metadata": {},
   "outputs": [],
   "source": []
  },
  {
   "cell_type": "code",
   "execution_count": null,
   "id": "0db2f759",
   "metadata": {},
   "outputs": [],
   "source": []
  },
  {
   "cell_type": "code",
   "execution_count": null,
   "id": "ec525c5c",
   "metadata": {},
   "outputs": [],
   "source": []
  },
  {
   "cell_type": "code",
   "execution_count": null,
   "id": "2dfd5e3e",
   "metadata": {},
   "outputs": [],
   "source": []
  }
 ],
 "metadata": {
  "kernelspec": {
   "display_name": "gsoc-2025-1",
   "language": "python",
   "name": "python3"
  },
  "language_info": {
   "codemirror_mode": {
    "name": "ipython",
    "version": 3
   },
   "file_extension": ".py",
   "mimetype": "text/x-python",
   "name": "python",
   "nbconvert_exporter": "python",
   "pygments_lexer": "ipython3",
   "version": "3.12.2"
  }
 },
 "nbformat": 4,
 "nbformat_minor": 5
}
