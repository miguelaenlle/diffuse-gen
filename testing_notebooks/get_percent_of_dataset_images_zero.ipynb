{
 "cells": [
  {
   "cell_type": "code",
   "execution_count": 12,
   "id": "1e748d3f",
   "metadata": {},
   "outputs": [],
   "source": [
    "import os\n",
    "import numpy as np\n",
    "from PIL import Image\n",
    "from matplotlib import pyplot as plt"
   ]
  },
  {
   "cell_type": "code",
   "execution_count": 9,
   "id": "fe4bd08b",
   "metadata": {},
   "outputs": [],
   "source": [
    "path = '/home/miguel/GI/0 - Data Exploration & Analysis/GI-Roberta/gi-roberta-dataset/full_dataset'"
   ]
  },
  {
   "cell_type": "code",
   "execution_count": 18,
   "id": "84174b21",
   "metadata": {},
   "outputs": [],
   "source": [
    "num_empty_images = 0\n",
    "for file in os.listdir(path):\n",
    "    img_path = os.path.join(path, file)\n",
    "    img = Image.open(img_path)\n",
    "    img_array = np.array(img)\n",
    "    if img_array.mean() < 10: num_empty_images += 1"
   ]
  },
  {
   "cell_type": "code",
   "execution_count": 21,
   "id": "68f95cc5",
   "metadata": {},
   "outputs": [
    {
     "data": {
      "text/plain": [
       "0.18055555555555555"
      ]
     },
     "execution_count": 21,
     "metadata": {},
     "output_type": "execute_result"
    }
   ],
   "source": [
    "num_empty_images / len(os.listdir(path))"
   ]
  },
  {
   "cell_type": "code",
   "execution_count": 20,
   "id": "0e924856",
   "metadata": {},
   "outputs": [
    {
     "data": {
      "text/plain": [
       "720"
      ]
     },
     "execution_count": 20,
     "metadata": {},
     "output_type": "execute_result"
    }
   ],
   "source": [
    "len(os.listdir(path))"
   ]
  },
  {
   "cell_type": "code",
   "execution_count": null,
   "id": "9cf29d21",
   "metadata": {},
   "outputs": [],
   "source": []
  }
 ],
 "metadata": {
  "kernelspec": {
   "display_name": "gsoc-2025-1",
   "language": "python",
   "name": "python3"
  },
  "language_info": {
   "codemirror_mode": {
    "name": "ipython",
    "version": 3
   },
   "file_extension": ".py",
   "mimetype": "text/x-python",
   "name": "python",
   "nbconvert_exporter": "python",
   "pygments_lexer": "ipython3",
   "version": "3.12.2"
  }
 },
 "nbformat": 4,
 "nbformat_minor": 5
}
