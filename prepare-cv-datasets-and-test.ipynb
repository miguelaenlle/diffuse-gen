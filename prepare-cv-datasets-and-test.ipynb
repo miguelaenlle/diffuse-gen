{
 "cells": [
  {
   "cell_type": "code",
   "execution_count": 2,
   "id": "c44b8b62",
   "metadata": {},
   "outputs": [],
   "source": [
    "# Acquire: \n",
    "# - threshold for which a mask is gray-empty\n",
    "# - percent of masks that are gray-empty\n",
    "# - percent of masks that are empty"
   ]
  },
  {
   "cell_type": "code",
   "execution_count": 1,
   "id": "91b621ac",
   "metadata": {},
   "outputs": [],
   "source": [
    "import os\n",
    "import cv2\n",
    "import shutil\n",
    "import pickle\n",
    "import numpy as np\n",
    "import pandas as pd\n",
    "from tqdm import tqdm\n",
    "from PIL import Image\n",
    "import matplotlib.pyplot as plt\n",
    "from skimage.metrics import structural_similarity as ssim"
   ]
  },
  {
   "cell_type": "code",
   "execution_count": 2,
   "id": "e649a10f",
   "metadata": {},
   "outputs": [],
   "source": [
    "CV_SUBJECTS = [\n",
    "    'FD-027', 'FD-029', 'FD-030', 'FD-031', 'FD-032',\n",
    "]"
   ]
  },
  {
   "cell_type": "code",
   "execution_count": 3,
   "id": "8dc4e7d4",
   "metadata": {},
   "outputs": [],
   "source": [
    "AUGMENTED_DATASET_PATH = 'augmented_dataset'\n",
    "FULL_DATASET_FOLDER_PATH = '/home/miguel/GI/0 - Data Exploration & Analysis/GI-Roberta/gi-roberta-dataset/full_dataset'\n",
    "FULL_DATRASET_RGBA_FOLDER_PATH = '/home/miguel/GI/0 - Data Exploration & Analysis/GI-Roberta/gi-roberta-dataset/full_dataset_rgba'"
   ]
  },
  {
   "cell_type": "code",
   "execution_count": 29,
   "id": "63facba9",
   "metadata": {},
   "outputs": [
    {
     "data": {
      "text/html": [
       "<div>\n",
       "<style scoped>\n",
       "    .dataframe tbody tr th:only-of-type {\n",
       "        vertical-align: middle;\n",
       "    }\n",
       "\n",
       "    .dataframe tbody tr th {\n",
       "        vertical-align: top;\n",
       "    }\n",
       "\n",
       "    .dataframe thead th {\n",
       "        text-align: right;\n",
       "    }\n",
       "</style>\n",
       "<table border=\"1\" class=\"dataframe\">\n",
       "  <thead>\n",
       "    <tr style=\"text-align: right;\">\n",
       "      <th></th>\n",
       "      <th>file_name</th>\n",
       "      <th>model_name</th>\n",
       "    </tr>\n",
       "  </thead>\n",
       "  <tbody>\n",
       "    <tr>\n",
       "      <th>0</th>\n",
       "      <td>FD-032-slice-04-image.png</td>\n",
       "      <td>FD-032</td>\n",
       "    </tr>\n",
       "    <tr>\n",
       "      <th>4</th>\n",
       "      <td>FD-031-slice-16-image.png</td>\n",
       "      <td>FD-031</td>\n",
       "    </tr>\n",
       "    <tr>\n",
       "      <th>5</th>\n",
       "      <td>FD-031-slice-27-image.png</td>\n",
       "      <td>FD-031</td>\n",
       "    </tr>\n",
       "    <tr>\n",
       "      <th>8</th>\n",
       "      <td>FD-031-slice-07-image.png</td>\n",
       "      <td>FD-031</td>\n",
       "    </tr>\n",
       "    <tr>\n",
       "      <th>11</th>\n",
       "      <td>FD-032-slice-11-image.png</td>\n",
       "      <td>FD-032</td>\n",
       "    </tr>\n",
       "    <tr>\n",
       "      <th>...</th>\n",
       "      <td>...</td>\n",
       "      <td>...</td>\n",
       "    </tr>\n",
       "    <tr>\n",
       "      <th>355</th>\n",
       "      <td>FD-030-slice-14-image.png</td>\n",
       "      <td>FD-030</td>\n",
       "    </tr>\n",
       "    <tr>\n",
       "      <th>356</th>\n",
       "      <td>FD-029-slice-58-image.png</td>\n",
       "      <td>FD-029</td>\n",
       "    </tr>\n",
       "    <tr>\n",
       "      <th>357</th>\n",
       "      <td>FD-030-slice-24-image.png</td>\n",
       "      <td>FD-030</td>\n",
       "    </tr>\n",
       "    <tr>\n",
       "      <th>358</th>\n",
       "      <td>FD-032-slice-16-image.png</td>\n",
       "      <td>FD-032</td>\n",
       "    </tr>\n",
       "    <tr>\n",
       "      <th>359</th>\n",
       "      <td>FD-032-slice-57-image.png</td>\n",
       "      <td>FD-032</td>\n",
       "    </tr>\n",
       "  </tbody>\n",
       "</table>\n",
       "<p>288 rows × 2 columns</p>\n",
       "</div>"
      ],
      "text/plain": [
       "                     file_name model_name\n",
       "0    FD-032-slice-04-image.png     FD-032\n",
       "4    FD-031-slice-16-image.png     FD-031\n",
       "5    FD-031-slice-27-image.png     FD-031\n",
       "8    FD-031-slice-07-image.png     FD-031\n",
       "11   FD-032-slice-11-image.png     FD-032\n",
       "..                         ...        ...\n",
       "355  FD-030-slice-14-image.png     FD-030\n",
       "356  FD-029-slice-58-image.png     FD-029\n",
       "357  FD-030-slice-24-image.png     FD-030\n",
       "358  FD-032-slice-16-image.png     FD-032\n",
       "359  FD-032-slice-57-image.png     FD-032\n",
       "\n",
       "[288 rows x 2 columns]"
      ]
     },
     "execution_count": 29,
     "metadata": {},
     "output_type": "execute_result"
    }
   ],
   "source": [
    "training_samples"
   ]
  },
  {
   "cell_type": "code",
   "execution_count": 11,
   "id": "3a26c6d4",
   "metadata": {},
   "outputs": [
    {
     "name": "stderr",
     "output_type": "stream",
     "text": [
      "100%|██████████| 72/72 [00:00<00:00, 1382.90it/s]\n"
     ]
    },
    {
     "name": "stdout",
     "output_type": "stream",
     "text": [
      "Number of blank masks for FD-027: 25, 72 (34.72%)\n"
     ]
    },
    {
     "name": "stderr",
     "output_type": "stream",
     "text": [
      "100%|██████████| 72/72 [00:00<00:00, 1445.94it/s]\n",
      "100%|██████████| 72/72 [00:00<00:00, 1486.71it/s]\n",
      "100%|██████████| 72/72 [00:00<00:00, 1372.66it/s]\n",
      "100%|██████████| 72/72 [00:00<00:00, 1367.29it/s]\n"
     ]
    },
    {
     "name": "stdout",
     "output_type": "stream",
     "text": [
      "Number of blank masks for FD-027: 105, 288 (36.46%)\n"
     ]
    },
    {
     "name": "stderr",
     "output_type": "stream",
     "text": [
      "100%|██████████| 72/72 [00:00<00:00, 1363.93it/s]\n"
     ]
    },
    {
     "name": "stdout",
     "output_type": "stream",
     "text": [
      "Number of blank masks for FD-029: 27, 72 (37.50%)\n"
     ]
    },
    {
     "name": "stderr",
     "output_type": "stream",
     "text": [
      "100%|██████████| 72/72 [00:00<00:00, 1369.14it/s]\n",
      "100%|██████████| 72/72 [00:00<00:00, 1481.18it/s]\n",
      "100%|██████████| 72/72 [00:00<00:00, 1433.74it/s]\n",
      "100%|██████████| 72/72 [00:00<00:00, 1451.01it/s]\n"
     ]
    },
    {
     "name": "stdout",
     "output_type": "stream",
     "text": [
      "Number of blank masks for FD-029: 103, 288 (35.76%)\n"
     ]
    },
    {
     "name": "stderr",
     "output_type": "stream",
     "text": [
      "100%|██████████| 72/72 [00:00<00:00, 1492.16it/s]\n"
     ]
    },
    {
     "name": "stdout",
     "output_type": "stream",
     "text": [
      "Number of blank masks for FD-030: 31, 72 (43.06%)\n"
     ]
    },
    {
     "name": "stderr",
     "output_type": "stream",
     "text": [
      "100%|██████████| 72/72 [00:00<00:00, 1403.46it/s]\n",
      "100%|██████████| 72/72 [00:00<00:00, 1446.55it/s]\n",
      "100%|██████████| 72/72 [00:00<00:00, 1430.40it/s]\n",
      "100%|██████████| 72/72 [00:00<00:00, 1448.41it/s]\n"
     ]
    },
    {
     "name": "stdout",
     "output_type": "stream",
     "text": [
      "Number of blank masks for FD-030: 99, 288 (34.38%)\n"
     ]
    },
    {
     "name": "stderr",
     "output_type": "stream",
     "text": [
      "100%|██████████| 72/72 [00:00<00:00, 1437.88it/s]\n"
     ]
    },
    {
     "name": "stdout",
     "output_type": "stream",
     "text": [
      "Number of blank masks for FD-031: 22, 72 (30.56%)\n"
     ]
    },
    {
     "name": "stderr",
     "output_type": "stream",
     "text": [
      "100%|██████████| 72/72 [00:00<00:00, 1405.04it/s]\n",
      "100%|██████████| 72/72 [00:00<00:00, 1458.80it/s]\n",
      "100%|██████████| 72/72 [00:00<00:00, 1492.75it/s]\n",
      "100%|██████████| 72/72 [00:00<00:00, 1447.84it/s]\n"
     ]
    },
    {
     "name": "stdout",
     "output_type": "stream",
     "text": [
      "Number of blank masks for FD-031: 108, 288 (37.50%)\n"
     ]
    },
    {
     "name": "stderr",
     "output_type": "stream",
     "text": [
      "100%|██████████| 72/72 [00:00<00:00, 1451.64it/s]\n"
     ]
    },
    {
     "name": "stdout",
     "output_type": "stream",
     "text": [
      "Number of blank masks for FD-032: 25, 72 (34.72%)\n"
     ]
    },
    {
     "name": "stderr",
     "output_type": "stream",
     "text": [
      "100%|██████████| 72/72 [00:00<00:00, 1399.48it/s]\n",
      "100%|██████████| 72/72 [00:00<00:00, 1444.22it/s]\n",
      "100%|██████████| 72/72 [00:00<00:00, 1482.17it/s]\n",
      "100%|██████████| 72/72 [00:00<00:00, 1429.89it/s]"
     ]
    },
    {
     "name": "stdout",
     "output_type": "stream",
     "text": [
      "Number of blank masks for FD-032: 105, 288 (36.46%)\n"
     ]
    },
    {
     "name": "stderr",
     "output_type": "stream",
     "text": [
      "\n"
     ]
    }
   ],
   "source": [
    "for cv_subject in CV_SUBJECTS:\n",
    "    # Prepare the dataset for the current subject\n",
    "    cv_subject_path = os.path.join(AUGMENTED_DATASET_PATH, cv_subject)\n",
    "    \n",
    "    if not os.path.exists(cv_subject_path):\n",
    "        os.makedirs(cv_subject_path)\n",
    "\n",
    "    train_folder_path = os.path.join(cv_subject_path, 'train')\n",
    "    val_folder_path = os.path.join(cv_subject_path, 'val')\n",
    "\n",
    "    if not os.path.exists(train_folder_path):\n",
    "        os.makedirs(train_folder_path)\n",
    "\n",
    "    if not os.path.exists(val_folder_path):\n",
    "        os.makedirs(val_folder_path)        \n",
    "\n",
    "    images = os.listdir(FULL_DATRASET_RGBA_FOLDER_PATH)\n",
    "    image_datas = pd.DataFrame({\n",
    "        'file_name': images,\n",
    "        'model_name': [f.split('-slice')[0] for f in images]\n",
    "    })\n",
    "\n",
    "    training_samples = image_datas[image_datas['model_name'] != cv_subject]\n",
    "    cv_val_samples = image_datas[image_datas['model_name'] == cv_subject]\n",
    "\n",
    "    num_blank_masks = 0\n",
    "    num_total_masks = 0\n",
    "    for i in tqdm(cv_val_samples.index):\n",
    "        file_name = cv_val_samples.loc[i, 'file_name']\n",
    "        original_path = os.path.join(FULL_DATASET_FOLDER_PATH, file_name)\n",
    "        destination_path = os.path.join(train_folder_path, file_name)\n",
    "\n",
    "        mask_file_name = file_name.replace('-image.png', '-mask.png')\n",
    "        original_mask_path = os.path.join(FULL_DATASET_FOLDER_PATH, mask_file_name)\n",
    "        destination_mask_path = os.path.join(train_folder_path, mask_file_name)\n",
    "\n",
    "        original_image = cv2.imread(original_path, cv2.IMREAD_UNCHANGED)\n",
    "        mask_image = cv2.imread(original_mask_path, cv2.IMREAD_GRAYSCALE)\n",
    "        if (mask_image.flatten().max() == 0):\n",
    "            num_blank_masks += 1\n",
    "        num_total_masks += 1\n",
    "    print(f'Number of blank masks for {cv_subject}: {num_blank_masks}, {num_total_masks} ({num_blank_masks / num_total_masks * 100:.2f}%)')\n",
    "\n",
    "    num_blank_masks = 0\n",
    "    num_total_masks = 0\n",
    "    maxima = []\n",
    "    for subject in CV_SUBJECTS:\n",
    "        if subject == cv_subject:\n",
    "            continue\n",
    "\n",
    "        subject_samples = image_datas[image_datas['model_name'] == subject].sort_values(by='file_name')\n",
    "        for i in tqdm(subject_samples.index):\n",
    "            file_name = subject_samples.loc[i, 'file_name']\n",
    "            original_path = os.path.join(FULL_DATASET_FOLDER_PATH, file_name)\n",
    "            destination_path = os.path.join(train_folder_path, file_name)\n",
    "\n",
    "            mask_file_name = file_name.replace('-image.png', '-mask.png')\n",
    "            original_mask_path = os.path.join(FULL_DATASET_FOLDER_PATH, mask_file_name)\n",
    "            destination_mask_path = os.path.join(train_folder_path, mask_file_name)\n",
    "\n",
    "            original_image = cv2.imread(original_path, cv2.IMREAD_UNCHANGED)\n",
    "            mask_image = cv2.imread(original_mask_path, cv2.IMREAD_GRAYSCALE)\n",
    "            if (mask_image.flatten().max() == 0):\n",
    "                num_blank_masks += 1\n",
    "            num_total_masks += 1\n",
    "    print(f'Number of blank masks for {cv_subject}: {num_blank_masks}, {num_total_masks} ({num_blank_masks / num_total_masks * 100:.2f}%)')"
   ]
  },
  {
   "cell_type": "code",
   "execution_count": 22,
   "id": "76fd700b",
   "metadata": {},
   "outputs": [
    {
     "name": "stdout",
     "output_type": "stream",
     "text": [
      "FD-027-slice-01-image.png\n",
      "FD-027-slice-02-image.png\n",
      "FD-027-slice-03-image.png\n",
      "FD-027-slice-04-image.png\n",
      "FD-027-slice-05-image.png\n",
      "FD-027-slice-06-image.png\n",
      "FD-027-slice-07-image.png\n",
      "FD-027-slice-08-image.png\n",
      "FD-027-slice-09-image.png\n",
      "FD-027-slice-10-image.png\n",
      "FD-027-slice-11-image.png\n",
      "FD-027-slice-12-image.png\n",
      "FD-027-slice-13-image.png\n",
      "FD-027-slice-14-image.png\n",
      "FD-027-slice-15-image.png\n",
      "FD-027-slice-16-image.png\n",
      "FD-027-slice-17-image.png\n",
      "FD-027-slice-18-image.png\n",
      "FD-027-slice-19-image.png\n",
      "FD-027-slice-20-image.png\n",
      "FD-027-slice-21-image.png\n",
      "FD-027-slice-22-image.png\n",
      "FD-027-slice-23-image.png\n",
      "FD-027-slice-24-image.png\n",
      "FD-027-slice-25-image.png\n",
      "FD-027-slice-26-image.png\n",
      "FD-027-slice-27-image.png\n",
      "FD-027-slice-28-image.png\n",
      "FD-027-slice-29-image.png\n",
      "FD-027-slice-30-image.png\n",
      "FD-027-slice-31-image.png\n",
      "FD-027-slice-32-image.png\n",
      "FD-027-slice-33-image.png\n",
      "FD-027-slice-34-image.png\n",
      "FD-027-slice-35-image.png\n",
      "FD-027-slice-36-image.png\n",
      "FD-027-slice-37-image.png\n",
      "FD-027-slice-38-image.png\n",
      "FD-027-slice-39-image.png\n",
      "FD-027-slice-40-image.png\n",
      "FD-027-slice-41-image.png\n",
      "FD-027-slice-42-image.png\n",
      "FD-027-slice-43-image.png\n",
      "FD-027-slice-44-image.png\n",
      "FD-027-slice-45-image.png\n",
      "FD-027-slice-46-image.png\n",
      "FD-027-slice-47-image.png\n",
      "FD-027-slice-48-image.png\n",
      "FD-027-slice-49-image.png\n",
      "FD-027-slice-50-image.png\n",
      "FD-027-slice-51-image.png\n",
      "FD-027-slice-52-image.png\n",
      "FD-027-slice-53-image.png\n",
      "FD-027-slice-54-image.png\n",
      "FD-027-slice-55-image.png\n",
      "FD-027-slice-56-image.png\n",
      "FD-027-slice-57-image.png\n",
      "FD-027-slice-58-image.png\n",
      "FD-027-slice-59-image.png\n",
      "FD-027-slice-60-image.png\n",
      "FD-027-slice-61-image.png\n",
      "FD-027-slice-62-image.png\n",
      "FD-027-slice-63-image.png\n",
      "FD-027-slice-64-image.png\n",
      "FD-027-slice-65-image.png\n",
      "FD-027-slice-66-image.png\n",
      "FD-027-slice-67-image.png\n",
      "FD-027-slice-68-image.png\n",
      "FD-027-slice-69-image.png\n",
      "FD-027-slice-70-image.png\n",
      "FD-027-slice-71-image.png\n",
      "FD-027-slice-72-image.png\n"
     ]
    }
   ],
   "source": [
    "for f in subject_samples.sort_values(by='file_name')['file_name'].values.tolist():\n",
    "    print(f)"
   ]
  },
  {
   "cell_type": "code",
   "execution_count": null,
   "id": "16289b2e",
   "metadata": {},
   "outputs": [],
   "source": []
  }
 ],
 "metadata": {
  "kernelspec": {
   "display_name": "gsoc-2025-1",
   "language": "python",
   "name": "python3"
  },
  "language_info": {
   "codemirror_mode": {
    "name": "ipython",
    "version": 3
   },
   "file_extension": ".py",
   "mimetype": "text/x-python",
   "name": "python",
   "nbconvert_exporter": "python",
   "pygments_lexer": "ipython3",
   "version": "3.12.2"
  }
 },
 "nbformat": 4,
 "nbformat_minor": 5
}
